{
 "cells": [
  {
   "cell_type": "code",
   "execution_count": 37,
   "metadata": {},
   "outputs": [],
   "source": [
    "%matplotlib inline\n",
    "#import yfinance as yf\n",
    "import pandas as pd\n",
    "import matplotlib.pyplot as plt\n",
    "import seaborn; seaborn.set()\n",
    "#from pandas_datareader import data as pdr\n",
    "from bs4 import BeautifulSoup"
   ]
  },
  {
   "cell_type": "markdown",
   "metadata": {},
   "source": [
    "# Задание 1.\n",
    "\n",
    "Вы - менеджер по продажам в нефтехимической компании. Вы ведете несколько ключевых клиентов, которые закупают продукты вашей компании. Ваша компания запускает новый продукт - \"Волшебный белый порошок\" (ВБП), который по своим свойствам похож на тот, что уже есть на рынке. Ваши клиенты предпочитают формульный подход к ценообразованию. Вам нужно предложить клиентам формулу расчета цены на ВБП. В зависимости от объемов, которые покупают клиенты, им может быть предложена скидка.\n",
    "\n",
    "### Дополнительные вводные:\n",
    "\n",
    "Так как продукт Б новый, возможно стоит предложить дисконт от цены Продукта А. Продукт производиться из нефти. Один из известных способов производства предполагает что из 16 баррелей нефти сделают одну тонну ВБП, а затраты на производство в районе 400 евро."
   ]
  },
  {
   "cell_type": "code",
   "execution_count": 2,
   "metadata": {},
   "outputs": [],
   "source": [
    "# Из данных есть:\n",
    "# Цены на продукт А, который уже есть на рынке Европы\n",
    "# ----- октябрь 2018 - \n",
    "# ----- ноябрь 2018 - \n",
    "# ----- февраль 2019 -\n",
    "\n",
    "# Котировки нефти, курс eur/usd\n",
    "#dbc = pd.read_excel('cur_oil.xlsx')\n",
    "#dbc=pd.read_csv('cur_oil')\n",
    "\n",
    "#dbc\n",
    "# Затраты на производство\n",
    "PRODUCTION_COST = 400 # (EUR)\n",
    "\n",
    "# Расходы на логистику\n",
    "EU_LOGISTIC_COST_EUR = 30 # в Европу в евро\n",
    "CN_LOGISTIC_COST_USD = 130 # в Китай в долларах\n",
    "\n",
    "# * Справочная информация по клиентам(объемы, локации, комментарии) \n",
    "customers = {\n",
    "    'Monty':{\n",
    "        'location':'EU',\n",
    "        'volumes':200,\n",
    "        'comment':'moving_average'\n",
    "    },\n",
    "    \n",
    "    'Triangle':{\n",
    "        'location':'CN',\n",
    "        'volumes': 30,\n",
    "        'comment': 'monthly'\n",
    "    },\n",
    "    'Stone':{\n",
    "        'location':'EU',\n",
    "        'volumes': 150,\n",
    "        'comment': 'moving_average'\n",
    "    },\n",
    "    'Poly':{\n",
    "        'location':'EU',\n",
    "        'volumes': 70,\n",
    "        'comment': 'monthly'\n",
    "    \n",
    "    },'Russian':{\n",
    "        'location':'RU',\n",
    "        'volumes': 10,                  #Клиенту из RUS  предлагаем пробную партию 10 тонн на условиях FCA\n",
    "        'comment': 'monthly'\n",
    "    \n",
    "    }\n",
    "    }\n",
    "\n",
    "\n",
    "\n",
    "# Скидки\n",
    "#discounts = {'up to 100': 0.01, # 1%\n",
    "            # 'up to 300': 0.05, # 5%\n",
    "             #'300 plus': 0.1}   #10%\n"
   ]
  },
  {
   "cell_type": "code",
   "execution_count": 38,
   "metadata": {},
   "outputs": [],
   "source": [
    "#СПРАВОЧНИК -ТОЛЬКО В ЭТОМ БЛОКЕ ВОЗМОЖНО ИЗМЕНЕНИЕ ПАРАМЕТРОВ\n",
    "\n",
    "customers = {\n",
    "    'Monty':{\n",
    "        'location':'EU',\n",
    "        'volumes':200,\n",
    "        'comment':'moving_average'\n",
    "    },\n",
    "    \n",
    "    'Triangle':{\n",
    "        'location':'CN',\n",
    "        'volumes': 30,\n",
    "        'comment': 'monthly'\n",
    "    },\n",
    "    'Stone':{\n",
    "        'location':'EU',\n",
    "        'volumes': 150,\n",
    "        'comment': 'moving_average'\n",
    "    },\n",
    "    'Poly':{\n",
    "        'location':'EU',\n",
    "        'volumes': 70,\n",
    "        'comment': 'monthly'\n",
    "    \n",
    "    },'Russian':{\n",
    "        'location':'RU',\n",
    "        'volumes': 10,                  #Клиенту из RUS  предлагаем пробную партию 10 тонн на условиях FCA\n",
    "        'comment': 'monthly'\n",
    "    \n",
    "    }\n",
    "    }\n",
    "\n",
    "PRODUCTION_COST = 400 # (EUR) затраты на производство 1 тонны продукта VBP в EUR\n",
    "RAW_MAT=16 #  расход сырья на 1 тонну продукта VBP (1 тонна продукта VBP=16 барелей нефти)\n",
    "\n",
    "EU_LOGISTIC_COST_EUR = 30 # затраты на логистику на условиях поставки  DDP в Европу в евро\n",
    "CN_LOGISTIC_COST_USD = 130 # затраты на логистику на условиях поставки  DDP в Китай  в долларах\n",
    "\n",
    "\n",
    "\n",
    "discounts = {100: 0.01, # 1% up to 100'\n",
    "             300: 0.05, # 5% up to 300\n",
    "             301: 0.1}   #10% 300 plus'\n",
    "K_EUR=72.0882   #Курс Евро на дату предложения продукта VBP  30.04.2019\n",
    "K_USD =64.7053   #Курс доллара на дату предложения продукта VBP  30.04.2019\n",
    "dbc=64.94   #Котировка 1 барреля нефти к рублю на дату предложения продукта VBP  30.04.2019\n",
    "NP=0.15  #*Размер min прибыли предприятия, заложенной в цену 1 тонны продукта  для данного расчета, как 15%  от себестоимости продукта\n",
    "#(проведен анализ размера min прибыли в среднем по отрасли). \n",
    "\n",
    "#*Только для данного расчета"
   ]
  },
  {
   "cell_type": "code",
   "execution_count": null,
   "metadata": {},
   "outputs": [],
   "source": []
  },
  {
   "cell_type": "code",
   "execution_count": 39,
   "metadata": {},
   "outputs": [
    {
     "name": "stdout",
     "output_type": "stream",
     "text": [
      "{100: 0.01, 300: 0.05, 301: 0.1}\n"
     ]
    }
   ],
   "source": [
    "print(discounts)"
   ]
  },
  {
   "cell_type": "code",
   "execution_count": 40,
   "metadata": {},
   "outputs": [
    {
     "name": "stdout",
     "output_type": "stream",
     "text": [
      "1039.04\n",
      "28835.3\n",
      "2162.6\n",
      "8411.7\n"
     ]
    }
   ],
   "source": [
    "# ФОРМУЛЫ РАСЧЕТА ПРОМЕЖУТЛОЧНЫХ ПОКАЗАТЕЛЕЙ ДЛЯ РАСЧЕТА СТОИМОСТИ 1 tn ПРОДУКТА VBP НА УСЛОВИЯХ FCA, DDP ЕВРОПА, DDP КИТАЙ\n",
    "#*****ЗДЕСЬ И ДАЛЕЕ - РАСЧЕТ СТОИМОСТИ 1 tn ПРОДУКТА VBP\n",
    "\n",
    "C_RAW_MAT=RAW_MAT*dbc  #ЗАТРАТЫ НА СЫРЬЕ ДЛЯ ПРОИЗВОДСТВА 1 ТОННЫ ПРОДУКТА VBP В РУБЛЯХ\n",
    "print(C_RAW_MAT)\n",
    "PRODUCTION_COST_R=PRODUCTION_COST*K_EUR #затраты на производство 1 тонны продукта VBP  в рублях\n",
    "print(round(PRODUCTION_COST_R,1))\n",
    "EU_LOGISTIC_COST_R=EU_LOGISTIC_COST_EUR*K_EUR #затраты на логистику на условиях поставки  DDP в Европу в рублях на 1 тн пр VBP\n",
    "print(round(EU_LOGISTIC_COST_R,1))\n",
    "CN_LOGISTIC_COST_R=CN_LOGISTIC_COST_USD*K_USD #затраты на логистику на условиях поставки  DDP в Китай  в рублях на 1 тн пр VBP\n",
    "print(round(CN_LOGISTIC_COST_R,1))"
   ]
  },
  {
   "cell_type": "code",
   "execution_count": 41,
   "metadata": {
    "scrolled": true
   },
   "outputs": [
    {
     "name": "stdout",
     "output_type": "stream",
     "text": [
      "34355.5\n",
      "36518.1\n",
      "42767.2\n"
     ]
    }
   ],
   "source": [
    "#ФОРМУЛЫ РАСЧЕТА СТОИМОСТИ 1 tn ПРОДУКТА VBP НА УСЛОВИЯХ FCA, DDP ЕВРОПА, DDP КИТАЙ БЕЗ УЧЕТА ДИСКОНТА\n",
    "\n",
    "PRICE_FCA=C_RAW_MAT+PRODUCTION_COST_R+(C_RAW_MAT+PRODUCTION_COST_R)*NP \n",
    "print(round(PRICE_FCA,1))   \n",
    "\n",
    "#базовая формула цены за 1 tn  продукта VBP на условиях DPP поставка в Европу в руб.\n",
    "PRICE_DDP_E=PRICE_FCA+EU_LOGISTIC_COST_R \n",
    "print(round(PRICE_DDP_E,1))\n",
    "\n",
    "#базовая формула цены за 1 tn  продукта VBP на условиях DPP поставка в Китай в руб.\n",
    "PRICE_DDP_CN=PRICE_FCA+CN_LOGISTIC_COST_R \n",
    "print(round(PRICE_DDP_CN,1))"
   ]
  },
  {
   "cell_type": "code",
   "execution_count": 42,
   "metadata": {},
   "outputs": [],
   "source": [
    "#ФУНКЦИИ СТАТИЧЕСКИЙ БЛОК:\n",
    "\n",
    "#ФУНКЦИЯ РАСЧЕТА ЦЕНЫ FCA БЕЗ УЧЕТА ДИСКОНТА\n",
    "\n",
    "def FCA(RAW_MAT,dbc,PRODUCTION_COST,K_EUR,NP):\n",
    "    C_RAW_MAT=RAW_MAT*dbc  #ЗАТРАТЫ НА СЫРЬЕ ДЛЯ ПРОИЗВОДСТВА 1 ТОННЫ ПРОДУКТА VBP В РУБЛЯХ\n",
    "    PRODUCTION_COST_R=PRODUCTION_COST*K_EUR #затраты на производство 1 тонны продукта VBP  в рублях\n",
    "    PRICE_FCA=C_RAW_MAT+PRODUCTION_COST_R+(C_RAW_MAT+PRODUCTION_COST_R)*NP \n",
    "    return(PRICE_FCA) \n",
    "    \n",
    " #ФУНКЦИЯ РАСЧЕТА ЦЕНЫ DDP С ПОСТАВКОЙ В ЕВРОПУ \n",
    "def DDP_E(FCA,EU_LOGISTIC_COST_EUR,K_EUR): \n",
    "    EU_LOGISTIC_COST_R=EU_LOGISTIC_COST_EUR*K_EUR #затраты на логистику на условиях поставки  DDP в Европу в рублях на 1 тн пр VBP\n",
    "    PRICE_DDP_E=PRICE_FCA+EU_LOGISTIC_COST_R  \n",
    "    return(PRICE_DDP_E)    \n",
    "\n",
    "#ФУНКЦИЯ РАСЧЕТА ЦЕНЫ DDP С ПОСТАВКОЙ В КИТАЙ\n",
    "def DDP_CN(FCA,CN_LOGISTIC_COST_USD,K_USD): \n",
    "    CN_LOGISTIC_COST_R=CN_LOGISTIC_COST_USD*K_USD #затраты на логистику на условиях поставки  DDP в Китай  в рублях на 1 тн пр VBP\n",
    "    PRICE_DDP_CN=PRICE_FCA+CN_LOGISTIC_COST_R\n",
    "    return(PRICE_DDP_CN) \n",
    "\n",
    "#ФУНКЦИИ ДИНАМИЧЕСКИЙ БЛОК:\n",
    "\n",
    "#ФУНКЦИЯ РАСЧЕТА ЦЕНЫ FCA с учетом дисконта\n",
    "def FCA_disc(FCA,discounts,volumes): \n",
    "    if volumes<100:\n",
    "        PRICE_FCA_discont=FCA*(1-discounts[100])\n",
    "        \n",
    "    elif volumes>=100 and  volumes<300:\n",
    "        PRICE_FCA_discont=FCA*(1-discounts[300])\n",
    "    elif volumes>=300:\n",
    "        PRICE_FCA_discont=FCA*(1-discounts[301])\n",
    "        \n",
    "          \n",
    "    return(PRICE_FCA_discont)\n",
    "\n",
    "#ФУНКЦИЯ РАСЧЕТА ЦЕНЫ DDP  с учетом дисконта\n",
    "def DDP_disc(DDP,discounts,volumes): \n",
    "    if volumes<100:\n",
    "        PRICE_DDP_discont=DDP*(1-discounts[100])\n",
    "        \n",
    "    elif volumes>=100 and  volumes<300:\n",
    "        PRICE_DDP_discont=DDP*(1-discounts[300])\n",
    "    elif volumes>=300:\n",
    "        PRICE_DDP_discont=DDP*(1-discounts[301])\n",
    "        \n",
    "          \n",
    "    return(PRICE_DDP_discont)"
   ]
  },
  {
   "cell_type": "code",
   "execution_count": 43,
   "metadata": {
    "scrolled": true
   },
   "outputs": [
    {
     "name": "stdout",
     "output_type": "stream",
     "text": [
      "34355.5\n"
     ]
    }
   ],
   "source": [
    "RAW_MAT\n",
    "dbc\n",
    "PRODUCTION_COST\n",
    "K_EUR\n",
    "NP\n",
    " \n",
    "FCA(RAW_MAT,dbc,PRODUCTION_COST,K_EUR,NP)\n",
    "res1=FCA(RAW_MAT,dbc,PRODUCTION_COST,K_EUR,NP)\n",
    "print(round(res1,1))\n",
    "\n",
    "assert round(res1,1)==34355.5, 'Error calculation FCA'"
   ]
  },
  {
   "cell_type": "code",
   "execution_count": null,
   "metadata": {},
   "outputs": [],
   "source": []
  },
  {
   "cell_type": "code",
   "execution_count": 44,
   "metadata": {},
   "outputs": [
    {
     "data": {
      "text/plain": [
       "36518.114"
      ]
     },
     "execution_count": 44,
     "metadata": {},
     "output_type": "execute_result"
    }
   ],
   "source": [
    "DDP_E(FCA,EU_LOGISTIC_COST_EUR,K_EUR)"
   ]
  },
  {
   "cell_type": "code",
   "execution_count": 45,
   "metadata": {},
   "outputs": [
    {
     "data": {
      "text/plain": [
       "42767.157"
      ]
     },
     "execution_count": 45,
     "metadata": {},
     "output_type": "execute_result"
    }
   ],
   "source": [
    "DDP_CN(FCA,CN_LOGISTIC_COST_USD,K_USD)"
   ]
  },
  {
   "cell_type": "code",
   "execution_count": null,
   "metadata": {},
   "outputs": [],
   "source": []
  },
  {
   "cell_type": "code",
   "execution_count": 46,
   "metadata": {},
   "outputs": [
    {
     "data": {
      "text/html": [
       "<div>\n",
       "<style scoped>\n",
       "    .dataframe tbody tr th:only-of-type {\n",
       "        vertical-align: middle;\n",
       "    }\n",
       "\n",
       "    .dataframe tbody tr th {\n",
       "        vertical-align: top;\n",
       "    }\n",
       "\n",
       "    .dataframe thead th {\n",
       "        text-align: right;\n",
       "    }\n",
       "</style>\n",
       "<table border=\"1\" class=\"dataframe\">\n",
       "  <thead>\n",
       "    <tr style=\"text-align: right;\">\n",
       "      <th></th>\n",
       "      <th>Date</th>\n",
       "      <th>EURUSD=X</th>\n",
       "      <th>OIL</th>\n",
       "    </tr>\n",
       "  </thead>\n",
       "  <tbody>\n",
       "    <tr>\n",
       "      <td>0</td>\n",
       "      <td>01.01.2018 0:00</td>\n",
       "      <td>1.2005</td>\n",
       "      <td>NaN</td>\n",
       "    </tr>\n",
       "    <tr>\n",
       "      <td>1</td>\n",
       "      <td>02.01.2018 0:00</td>\n",
       "      <td>1.2012</td>\n",
       "      <td>59.15</td>\n",
       "    </tr>\n",
       "    <tr>\n",
       "      <td>2</td>\n",
       "      <td>03.01.2018 0:00</td>\n",
       "      <td>1.2063</td>\n",
       "      <td>59.15</td>\n",
       "    </tr>\n",
       "    <tr>\n",
       "      <td>3</td>\n",
       "      <td>04.01.2018 0:00</td>\n",
       "      <td>1.2010</td>\n",
       "      <td>59.15</td>\n",
       "    </tr>\n",
       "    <tr>\n",
       "      <td>4</td>\n",
       "      <td>05.01.2018 0:00</td>\n",
       "      <td>1.2069</td>\n",
       "      <td>60.44</td>\n",
       "    </tr>\n",
       "  </tbody>\n",
       "</table>\n",
       "</div>"
      ],
      "text/plain": [
       "              Date  EURUSD=X    OIL\n",
       "0  01.01.2018 0:00    1.2005    NaN\n",
       "1  02.01.2018 0:00    1.2012  59.15\n",
       "2  03.01.2018 0:00    1.2063  59.15\n",
       "3  04.01.2018 0:00    1.2010  59.15\n",
       "4  05.01.2018 0:00    1.2069  60.44"
      ]
     },
     "execution_count": 46,
     "metadata": {},
     "output_type": "execute_result"
    }
   ],
   "source": [
    "#БЛОК ИМПОРТА ДАННЫХ\n",
    "# ИМПОРТ КОТИРОВОК НЕФТИ ИЗ ФАЙЛА csv\n",
    "dbc_df=pd.read_csv('cur1_oil.txt', sep=';')\n",
    "dbc_df.head()"
   ]
  },
  {
   "cell_type": "code",
   "execution_count": 47,
   "metadata": {},
   "outputs": [
    {
     "data": {
      "text/plain": [
       "(346, 3)"
      ]
     },
     "execution_count": 47,
     "metadata": {},
     "output_type": "execute_result"
    }
   ],
   "source": [
    "dbc_df.shape"
   ]
  },
  {
   "cell_type": "code",
   "execution_count": 48,
   "metadata": {},
   "outputs": [
    {
     "name": "stdout",
     "output_type": "stream",
     "text": [
      "<class 'pandas.core.frame.DataFrame'>\n",
      "RangeIndex: 346 entries, 0 to 345\n",
      "Data columns (total 3 columns):\n",
      "Date        346 non-null object\n",
      "EURUSD=X    346 non-null float64\n",
      "OIL         332 non-null float64\n",
      "dtypes: float64(2), object(1)\n",
      "memory usage: 8.2+ KB\n"
     ]
    }
   ],
   "source": [
    "dbc_df.info()"
   ]
  },
  {
   "cell_type": "code",
   "execution_count": 49,
   "metadata": {},
   "outputs": [],
   "source": [
    "dbc_df['Date']=pd.to_datetime(dbc_df['Date'])"
   ]
  },
  {
   "cell_type": "code",
   "execution_count": 50,
   "metadata": {
    "scrolled": true
   },
   "outputs": [
    {
     "data": {
      "text/html": [
       "<div>\n",
       "<style scoped>\n",
       "    .dataframe tbody tr th:only-of-type {\n",
       "        vertical-align: middle;\n",
       "    }\n",
       "\n",
       "    .dataframe tbody tr th {\n",
       "        vertical-align: top;\n",
       "    }\n",
       "\n",
       "    .dataframe thead th {\n",
       "        text-align: right;\n",
       "    }\n",
       "</style>\n",
       "<table border=\"1\" class=\"dataframe\">\n",
       "  <thead>\n",
       "    <tr style=\"text-align: right;\">\n",
       "      <th></th>\n",
       "      <th>data</th>\n",
       "      <th>curs USD</th>\n",
       "      <th>curs EUR</th>\n",
       "    </tr>\n",
       "  </thead>\n",
       "  <tbody>\n",
       "    <tr>\n",
       "      <td>0</td>\n",
       "      <td>10.01.2018</td>\n",
       "      <td>57.0463</td>\n",
       "      <td>68.2103</td>\n",
       "    </tr>\n",
       "    <tr>\n",
       "      <td>1</td>\n",
       "      <td>11.01.2018</td>\n",
       "      <td>56.8734</td>\n",
       "      <td>67.8841</td>\n",
       "    </tr>\n",
       "    <tr>\n",
       "      <td>2</td>\n",
       "      <td>12.01.2018</td>\n",
       "      <td>56.9957</td>\n",
       "      <td>68.0586</td>\n",
       "    </tr>\n",
       "    <tr>\n",
       "      <td>3</td>\n",
       "      <td>13.01.2018</td>\n",
       "      <td>56.6019</td>\n",
       "      <td>68.2562</td>\n",
       "    </tr>\n",
       "    <tr>\n",
       "      <td>4</td>\n",
       "      <td>16.01.2018</td>\n",
       "      <td>56.3569</td>\n",
       "      <td>68.8174</td>\n",
       "    </tr>\n",
       "  </tbody>\n",
       "</table>\n",
       "</div>"
      ],
      "text/plain": [
       "         data  curs USD  curs EUR\n",
       "0  10.01.2018   57.0463   68.2103\n",
       "1  11.01.2018   56.8734   67.8841\n",
       "2  12.01.2018   56.9957   68.0586\n",
       "3  13.01.2018   56.6019   68.2562\n",
       "4  16.01.2018   56.3569   68.8174"
      ]
     },
     "execution_count": 50,
     "metadata": {},
     "output_type": "execute_result"
    }
   ],
   "source": [
    "# ИМПОРТ КУРСОВ  USD, EUR  из файла csv\n",
    "dbc_curr=pd.read_csv('curs1_cb.txt', sep=';')\n",
    "dbc_curr.head()"
   ]
  },
  {
   "cell_type": "code",
   "execution_count": 51,
   "metadata": {},
   "outputs": [],
   "source": [
    "dbc_curr['Date']=pd.to_datetime(dbc_curr['data'])"
   ]
  },
  {
   "cell_type": "code",
   "execution_count": 52,
   "metadata": {},
   "outputs": [
    {
     "name": "stdout",
     "output_type": "stream",
     "text": [
      "<class 'pandas.core.frame.DataFrame'>\n",
      "RangeIndex: 325 entries, 0 to 324\n",
      "Data columns (total 4 columns):\n",
      "data        325 non-null object\n",
      "curs USD    325 non-null float64\n",
      "curs EUR    325 non-null float64\n",
      "Date        325 non-null datetime64[ns]\n",
      "dtypes: datetime64[ns](1), float64(2), object(1)\n",
      "memory usage: 10.3+ KB\n"
     ]
    }
   ],
   "source": [
    "dbc_curr.info()"
   ]
  },
  {
   "cell_type": "code",
   "execution_count": 53,
   "metadata": {},
   "outputs": [
    {
     "data": {
      "text/html": [
       "<div>\n",
       "<style scoped>\n",
       "    .dataframe tbody tr th:only-of-type {\n",
       "        vertical-align: middle;\n",
       "    }\n",
       "\n",
       "    .dataframe tbody tr th {\n",
       "        vertical-align: top;\n",
       "    }\n",
       "\n",
       "    .dataframe thead th {\n",
       "        text-align: right;\n",
       "    }\n",
       "</style>\n",
       "<table border=\"1\" class=\"dataframe\">\n",
       "  <thead>\n",
       "    <tr style=\"text-align: right;\">\n",
       "      <th></th>\n",
       "      <th>curs USD</th>\n",
       "      <th>curs EUR</th>\n",
       "      <th>Date</th>\n",
       "    </tr>\n",
       "  </thead>\n",
       "  <tbody>\n",
       "    <tr>\n",
       "      <td>0</td>\n",
       "      <td>57.0463</td>\n",
       "      <td>68.2103</td>\n",
       "      <td>2018-10-01</td>\n",
       "    </tr>\n",
       "    <tr>\n",
       "      <td>1</td>\n",
       "      <td>56.8734</td>\n",
       "      <td>67.8841</td>\n",
       "      <td>2018-11-01</td>\n",
       "    </tr>\n",
       "    <tr>\n",
       "      <td>2</td>\n",
       "      <td>56.9957</td>\n",
       "      <td>68.0586</td>\n",
       "      <td>2018-12-01</td>\n",
       "    </tr>\n",
       "    <tr>\n",
       "      <td>3</td>\n",
       "      <td>56.6019</td>\n",
       "      <td>68.2562</td>\n",
       "      <td>2018-01-13</td>\n",
       "    </tr>\n",
       "    <tr>\n",
       "      <td>4</td>\n",
       "      <td>56.3569</td>\n",
       "      <td>68.8174</td>\n",
       "      <td>2018-01-16</td>\n",
       "    </tr>\n",
       "  </tbody>\n",
       "</table>\n",
       "</div>"
      ],
      "text/plain": [
       "   curs USD  curs EUR       Date\n",
       "0   57.0463   68.2103 2018-10-01\n",
       "1   56.8734   67.8841 2018-11-01\n",
       "2   56.9957   68.0586 2018-12-01\n",
       "3   56.6019   68.2562 2018-01-13\n",
       "4   56.3569   68.8174 2018-01-16"
      ]
     },
     "execution_count": 53,
     "metadata": {},
     "output_type": "execute_result"
    }
   ],
   "source": [
    "dbc_curr=dbc_curr.drop(columns=['data'])\n",
    "dbc_curr.head()"
   ]
  },
  {
   "cell_type": "code",
   "execution_count": 54,
   "metadata": {},
   "outputs": [
    {
     "data": {
      "text/html": [
       "<div>\n",
       "<style scoped>\n",
       "    .dataframe tbody tr th:only-of-type {\n",
       "        vertical-align: middle;\n",
       "    }\n",
       "\n",
       "    .dataframe tbody tr th {\n",
       "        vertical-align: top;\n",
       "    }\n",
       "\n",
       "    .dataframe thead th {\n",
       "        text-align: right;\n",
       "    }\n",
       "</style>\n",
       "<table border=\"1\" class=\"dataframe\">\n",
       "  <thead>\n",
       "    <tr style=\"text-align: right;\">\n",
       "      <th></th>\n",
       "      <th>Date</th>\n",
       "      <th>EURUSD=X</th>\n",
       "      <th>OIL</th>\n",
       "      <th>curs USD</th>\n",
       "      <th>curs EUR</th>\n",
       "    </tr>\n",
       "  </thead>\n",
       "  <tbody>\n",
       "    <tr>\n",
       "      <td>0</td>\n",
       "      <td>2018-10-01</td>\n",
       "      <td>1.1929</td>\n",
       "      <td>62.48</td>\n",
       "      <td>57.0463</td>\n",
       "      <td>68.2103</td>\n",
       "    </tr>\n",
       "    <tr>\n",
       "      <td>1</td>\n",
       "      <td>2018-11-01</td>\n",
       "      <td>1.1956</td>\n",
       "      <td>62.50</td>\n",
       "      <td>56.8734</td>\n",
       "      <td>67.8841</td>\n",
       "    </tr>\n",
       "    <tr>\n",
       "      <td>2</td>\n",
       "      <td>2018-12-01</td>\n",
       "      <td>1.2042</td>\n",
       "      <td>62.46</td>\n",
       "      <td>56.9957</td>\n",
       "      <td>68.0586</td>\n",
       "    </tr>\n",
       "    <tr>\n",
       "      <td>3</td>\n",
       "      <td>2018-01-16</td>\n",
       "      <td>1.2268</td>\n",
       "      <td>62.75</td>\n",
       "      <td>56.3569</td>\n",
       "      <td>68.8174</td>\n",
       "    </tr>\n",
       "    <tr>\n",
       "      <td>4</td>\n",
       "      <td>2018-01-17</td>\n",
       "      <td>1.2271</td>\n",
       "      <td>63.05</td>\n",
       "      <td>56.3878</td>\n",
       "      <td>69.0243</td>\n",
       "    </tr>\n",
       "  </tbody>\n",
       "</table>\n",
       "</div>"
      ],
      "text/plain": [
       "        Date  EURUSD=X    OIL  curs USD  curs EUR\n",
       "0 2018-10-01    1.1929  62.48   57.0463   68.2103\n",
       "1 2018-11-01    1.1956  62.50   56.8734   67.8841\n",
       "2 2018-12-01    1.2042  62.46   56.9957   68.0586\n",
       "3 2018-01-16    1.2268  62.75   56.3569   68.8174\n",
       "4 2018-01-17    1.2271  63.05   56.3878   69.0243"
      ]
     },
     "execution_count": 54,
     "metadata": {},
     "output_type": "execute_result"
    }
   ],
   "source": [
    "#Сделаем  merge  inner  по 'Date' по 2-м массивам курсов/котировок для получения одного массива\n",
    "#Получили массив со всеми необходимыми курсами/котировками для расчета требуемых показателей в разрезе дат\n",
    "dbc_svod=dbc_df.merge(dbc_curr, how='inner',on='Date')\n",
    "dbc_svod.head()"
   ]
  },
  {
   "cell_type": "code",
   "execution_count": 55,
   "metadata": {},
   "outputs": [
    {
     "name": "stdout",
     "output_type": "stream",
     "text": [
      "<class 'pandas.core.frame.DataFrame'>\n",
      "Int64Index: 257 entries, 0 to 256\n",
      "Data columns (total 5 columns):\n",
      "Date        257 non-null datetime64[ns]\n",
      "EURUSD=X    257 non-null float64\n",
      "OIL         251 non-null float64\n",
      "curs USD    257 non-null float64\n",
      "curs EUR    257 non-null float64\n",
      "dtypes: datetime64[ns](1), float64(4)\n",
      "memory usage: 12.0 KB\n"
     ]
    }
   ],
   "source": [
    "dbc_svod.info()"
   ]
  },
  {
   "cell_type": "code",
   "execution_count": 56,
   "metadata": {},
   "outputs": [],
   "source": [
    "#Заполним пустые значения котировок. Метод method='ffill' \n",
    "dbc_svod['OIL']=dbc_svod['OIL'].fillna(method='ffill')"
   ]
  },
  {
   "cell_type": "code",
   "execution_count": null,
   "metadata": {},
   "outputs": [],
   "source": []
  },
  {
   "cell_type": "code",
   "execution_count": 57,
   "metadata": {},
   "outputs": [
    {
     "name": "stdout",
     "output_type": "stream",
     "text": [
      "1039.04\n",
      "0    27284.12\n",
      "1    27153.64\n",
      "2    27223.44\n",
      "3    27526.96\n",
      "4    27609.72\n",
      "Name: curs EUR, dtype: float64\n"
     ]
    }
   ],
   "source": [
    "#Промежуточный расчет для цены FCA без учета дисконта\n",
    "C_RAW_MAT=RAW_MAT*dbc  #ЗАТРАТЫ НА СЫРЬЕ ДЛЯ ПРОИЗВОДСТВА 1 ТОННЫ ПРОДУКТА VBP В РУБЛЯХ\n",
    "print(C_RAW_MAT)\n",
    "PRODUCTION_COST_R=PRODUCTION_COST*dbc_svod['curs EUR'] #затраты на производство 1 тонны продукта VBP  в рублях\n",
    "print(PRODUCTION_COST_R.head())"
   ]
  },
  {
   "cell_type": "code",
   "execution_count": 58,
   "metadata": {},
   "outputs": [
    {
     "data": {
      "text/html": [
       "<div>\n",
       "<style scoped>\n",
       "    .dataframe tbody tr th:only-of-type {\n",
       "        vertical-align: middle;\n",
       "    }\n",
       "\n",
       "    .dataframe tbody tr th {\n",
       "        vertical-align: top;\n",
       "    }\n",
       "\n",
       "    .dataframe thead th {\n",
       "        text-align: right;\n",
       "    }\n",
       "</style>\n",
       "<table border=\"1\" class=\"dataframe\">\n",
       "  <thead>\n",
       "    <tr style=\"text-align: right;\">\n",
       "      <th></th>\n",
       "      <th>Date</th>\n",
       "      <th>EURUSD=X</th>\n",
       "      <th>OIL</th>\n",
       "      <th>curs USD</th>\n",
       "      <th>curs EUR</th>\n",
       "      <th>FCA</th>\n",
       "    </tr>\n",
       "  </thead>\n",
       "  <tbody>\n",
       "    <tr>\n",
       "      <td>13</td>\n",
       "      <td>2018-01-02</td>\n",
       "      <td>1.2419</td>\n",
       "      <td>63.77</td>\n",
       "      <td>56.1840</td>\n",
       "      <td>69.9322</td>\n",
       "      <td>33363.708</td>\n",
       "    </tr>\n",
       "    <tr>\n",
       "      <td>29</td>\n",
       "      <td>2018-01-03</td>\n",
       "      <td>1.2191</td>\n",
       "      <td>60.00</td>\n",
       "      <td>56.3742</td>\n",
       "      <td>68.9062</td>\n",
       "      <td>32891.748</td>\n",
       "    </tr>\n",
       "    <tr>\n",
       "      <td>77</td>\n",
       "      <td>2018-01-06</td>\n",
       "      <td>1.1693</td>\n",
       "      <td>65.50</td>\n",
       "      <td>62.0188</td>\n",
       "      <td>72.5806</td>\n",
       "      <td>34581.972</td>\n",
       "    </tr>\n",
       "    <tr>\n",
       "      <td>109</td>\n",
       "      <td>2018-01-08</td>\n",
       "      <td>1.1690</td>\n",
       "      <td>68.70</td>\n",
       "      <td>62.3497</td>\n",
       "      <td>73.0738</td>\n",
       "      <td>34808.844</td>\n",
       "    </tr>\n",
       "    <tr>\n",
       "      <td>162</td>\n",
       "      <td>2018-01-11</td>\n",
       "      <td>1.1317</td>\n",
       "      <td>65.93</td>\n",
       "      <td>65.5962</td>\n",
       "      <td>74.4189</td>\n",
       "      <td>35427.590</td>\n",
       "    </tr>\n",
       "  </tbody>\n",
       "</table>\n",
       "</div>"
      ],
      "text/plain": [
       "          Date  EURUSD=X    OIL  curs USD  curs EUR        FCA\n",
       "13  2018-01-02    1.2419  63.77   56.1840   69.9322  33363.708\n",
       "29  2018-01-03    1.2191  60.00   56.3742   68.9062  32891.748\n",
       "77  2018-01-06    1.1693  65.50   62.0188   72.5806  34581.972\n",
       "109 2018-01-08    1.1690  68.70   62.3497   73.0738  34808.844\n",
       "162 2018-01-11    1.1317  65.93   65.5962   74.4189  35427.590"
      ]
     },
     "execution_count": 58,
     "metadata": {},
     "output_type": "execute_result"
    }
   ],
   "source": [
    "#Расчет цены FCA без дисконта в разрезе дат\n",
    "PRICE_FCA=C_RAW_MAT+PRODUCTION_COST_R+(C_RAW_MAT+PRODUCTION_COST_R)*NP\n",
    "dbc_svod['FCA']=PRICE_FCA\n",
    "dbc_svod.sort_values(by='Date',inplace=True)\n",
    "dbc_svod.head()"
   ]
  },
  {
   "cell_type": "code",
   "execution_count": 59,
   "metadata": {},
   "outputs": [
    {
     "data": {
      "text/plain": [
       "Text(0, 0.5, 'Стоимость 1tn продукта VBP на условиях FCA')"
      ]
     },
     "execution_count": 59,
     "metadata": {},
     "output_type": "execute_result"
    },
    {
     "data": {
      "image/png": "[encoded data removed]",
      "text/plain": [
       "<Figure size 1728x432 with 1 Axes>"
      ]
     },
     "metadata": {},
     "output_type": "display_data"
    }
   ],
   "source": [
    "import matplotlib.pyplot as plt\n",
    "plt.figure(figsize=(24, 6))\n",
    "#dbc_svod.plot(x=\"Date\", y=\"FCA\")\n",
    "plt.plot(dbc_svod['Date'],dbc_svod['FCA'])\n",
    "plt.title(\"Динамика цены FCA за период\")\n",
    "plt.xlabel('Период')\n",
    "plt.ylabel('Стоимость 1tn продукта VBP на условиях FCA')"
   ]
  },
  {
   "cell_type": "code",
   "execution_count": 60,
   "metadata": {},
   "outputs": [
    {
     "data": {
      "text/plain": [
       "Text(0, 0.5, 'Курс ЕВРО/Котировки нефти')"
      ]
     },
     "execution_count": 60,
     "metadata": {},
     "output_type": "execute_result"
    },
    {
     "data": {
      "image/png": "[encoded data removed]",
      "text/plain": [
       "<Figure size 1728x432 with 1 Axes>"
      ]
     },
     "metadata": {},
     "output_type": "display_data"
    }
   ],
   "source": [
    "plt.figure(figsize=(24, 6))\n",
    "plt.plot(dbc_svod['Date'],dbc_svod['curs EUR'])\n",
    "plt.plot(dbc_svod['Date'],dbc_svod['OIL'])\n",
    "plt.title(\"Динамика курса ЕВРО/Котировок нефти  за период\")\n",
    "plt.xlabel('Период')\n",
    "plt.ylabel('Курс ЕВРО/Котировки нефти')"
   ]
  },
  {
   "cell_type": "code",
   "execution_count": null,
   "metadata": {},
   "outputs": [],
   "source": []
  },
  {
   "cell_type": "code",
   "execution_count": null,
   "metadata": {},
   "outputs": [],
   "source": [
    "#ДИНАМИЧЕСКИЙ БЛОК"
   ]
  },
  {
   "cell_type": "code",
   "execution_count": null,
   "metadata": {},
   "outputs": [],
   "source": [
    "#Промежуточные расчеты для понимания"
   ]
  },
  {
   "cell_type": "code",
   "execution_count": 61,
   "metadata": {},
   "outputs": [
    {
     "data": {
      "text/html": [
       "<div>\n",
       "<style scoped>\n",
       "    .dataframe tbody tr th:only-of-type {\n",
       "        vertical-align: middle;\n",
       "    }\n",
       "\n",
       "    .dataframe tbody tr th {\n",
       "        vertical-align: top;\n",
       "    }\n",
       "\n",
       "    .dataframe thead th {\n",
       "        text-align: right;\n",
       "    }\n",
       "</style>\n",
       "<table border=\"1\" class=\"dataframe\">\n",
       "  <thead>\n",
       "    <tr style=\"text-align: right;\">\n",
       "      <th></th>\n",
       "      <th>Date</th>\n",
       "      <th>EURUSD=X</th>\n",
       "      <th>OIL</th>\n",
       "      <th>curs USD</th>\n",
       "      <th>curs EUR</th>\n",
       "      <th>FCA</th>\n",
       "      <th>DDP</th>\n",
       "    </tr>\n",
       "  </thead>\n",
       "  <tbody>\n",
       "    <tr>\n",
       "      <td>13</td>\n",
       "      <td>2018-01-02</td>\n",
       "      <td>1.2419</td>\n",
       "      <td>63.77</td>\n",
       "      <td>56.1840</td>\n",
       "      <td>69.9322</td>\n",
       "      <td>33363.708</td>\n",
       "      <td>35461.674</td>\n",
       "    </tr>\n",
       "    <tr>\n",
       "      <td>29</td>\n",
       "      <td>2018-01-03</td>\n",
       "      <td>1.2191</td>\n",
       "      <td>60.00</td>\n",
       "      <td>56.3742</td>\n",
       "      <td>68.9062</td>\n",
       "      <td>32891.748</td>\n",
       "      <td>34958.934</td>\n",
       "    </tr>\n",
       "    <tr>\n",
       "      <td>77</td>\n",
       "      <td>2018-01-06</td>\n",
       "      <td>1.1693</td>\n",
       "      <td>65.50</td>\n",
       "      <td>62.0188</td>\n",
       "      <td>72.5806</td>\n",
       "      <td>34581.972</td>\n",
       "      <td>36759.390</td>\n",
       "    </tr>\n",
       "    <tr>\n",
       "      <td>109</td>\n",
       "      <td>2018-01-08</td>\n",
       "      <td>1.1690</td>\n",
       "      <td>68.70</td>\n",
       "      <td>62.3497</td>\n",
       "      <td>73.0738</td>\n",
       "      <td>34808.844</td>\n",
       "      <td>37001.058</td>\n",
       "    </tr>\n",
       "    <tr>\n",
       "      <td>162</td>\n",
       "      <td>2018-01-11</td>\n",
       "      <td>1.1317</td>\n",
       "      <td>65.93</td>\n",
       "      <td>65.5962</td>\n",
       "      <td>74.4189</td>\n",
       "      <td>35427.590</td>\n",
       "      <td>37660.157</td>\n",
       "    </tr>\n",
       "  </tbody>\n",
       "</table>\n",
       "</div>"
      ],
      "text/plain": [
       "          Date  EURUSD=X    OIL  curs USD  curs EUR        FCA        DDP\n",
       "13  2018-01-02    1.2419  63.77   56.1840   69.9322  33363.708  35461.674\n",
       "29  2018-01-03    1.2191  60.00   56.3742   68.9062  32891.748  34958.934\n",
       "77  2018-01-06    1.1693  65.50   62.0188   72.5806  34581.972  36759.390\n",
       "109 2018-01-08    1.1690  68.70   62.3497   73.0738  34808.844  37001.058\n",
       "162 2018-01-11    1.1317  65.93   65.5962   74.4189  35427.590  37660.157"
      ]
     },
     "execution_count": 61,
     "metadata": {},
     "output_type": "execute_result"
    }
   ],
   "source": [
    "#Цена  DDP  поставка в Европу в  ретроспективе в разрезе дат\n",
    "DDP_E(dbc_svod['FCA'],EU_LOGISTIC_COST_EUR,dbc_svod['curs EUR'])\n",
    "dbc_svod['DDP']=DDP_E(dbc_svod['FCA'],EU_LOGISTIC_COST_EUR,dbc_svod['curs EUR'])\n",
    "dbc_svod.head()"
   ]
  },
  {
   "cell_type": "code",
   "execution_count": null,
   "metadata": {},
   "outputs": [],
   "source": []
  },
  {
   "cell_type": "code",
   "execution_count": 62,
   "metadata": {},
   "outputs": [
    {
     "data": {
      "text/html": [
       "<div>\n",
       "<style scoped>\n",
       "    .dataframe tbody tr th:only-of-type {\n",
       "        vertical-align: middle;\n",
       "    }\n",
       "\n",
       "    .dataframe tbody tr th {\n",
       "        vertical-align: top;\n",
       "    }\n",
       "\n",
       "    .dataframe thead th {\n",
       "        text-align: right;\n",
       "    }\n",
       "</style>\n",
       "<table border=\"1\" class=\"dataframe\">\n",
       "  <thead>\n",
       "    <tr style=\"text-align: right;\">\n",
       "      <th></th>\n",
       "      <th>Date</th>\n",
       "      <th>EURUSD=X</th>\n",
       "      <th>OIL</th>\n",
       "      <th>curs USD</th>\n",
       "      <th>curs EUR</th>\n",
       "      <th>FCA</th>\n",
       "      <th>DDP</th>\n",
       "    </tr>\n",
       "  </thead>\n",
       "  <tbody>\n",
       "    <tr>\n",
       "      <td>13</td>\n",
       "      <td>2018-01-02</td>\n",
       "      <td>1.2419</td>\n",
       "      <td>63.77</td>\n",
       "      <td>56.1840</td>\n",
       "      <td>69.9322</td>\n",
       "      <td>33363.708</td>\n",
       "      <td>40667.628</td>\n",
       "    </tr>\n",
       "    <tr>\n",
       "      <td>29</td>\n",
       "      <td>2018-01-03</td>\n",
       "      <td>1.2191</td>\n",
       "      <td>60.00</td>\n",
       "      <td>56.3742</td>\n",
       "      <td>68.9062</td>\n",
       "      <td>32891.748</td>\n",
       "      <td>40220.394</td>\n",
       "    </tr>\n",
       "    <tr>\n",
       "      <td>77</td>\n",
       "      <td>2018-01-06</td>\n",
       "      <td>1.1693</td>\n",
       "      <td>65.50</td>\n",
       "      <td>62.0188</td>\n",
       "      <td>72.5806</td>\n",
       "      <td>34581.972</td>\n",
       "      <td>42644.416</td>\n",
       "    </tr>\n",
       "    <tr>\n",
       "      <td>109</td>\n",
       "      <td>2018-01-08</td>\n",
       "      <td>1.1690</td>\n",
       "      <td>68.70</td>\n",
       "      <td>62.3497</td>\n",
       "      <td>73.0738</td>\n",
       "      <td>34808.844</td>\n",
       "      <td>42914.305</td>\n",
       "    </tr>\n",
       "    <tr>\n",
       "      <td>162</td>\n",
       "      <td>2018-01-11</td>\n",
       "      <td>1.1317</td>\n",
       "      <td>65.93</td>\n",
       "      <td>65.5962</td>\n",
       "      <td>74.4189</td>\n",
       "      <td>35427.590</td>\n",
       "      <td>43955.096</td>\n",
       "    </tr>\n",
       "  </tbody>\n",
       "</table>\n",
       "</div>"
      ],
      "text/plain": [
       "          Date  EURUSD=X    OIL  curs USD  curs EUR        FCA        DDP\n",
       "13  2018-01-02    1.2419  63.77   56.1840   69.9322  33363.708  40667.628\n",
       "29  2018-01-03    1.2191  60.00   56.3742   68.9062  32891.748  40220.394\n",
       "77  2018-01-06    1.1693  65.50   62.0188   72.5806  34581.972  42644.416\n",
       "109 2018-01-08    1.1690  68.70   62.3497   73.0738  34808.844  42914.305\n",
       "162 2018-01-11    1.1317  65.93   65.5962   74.4189  35427.590  43955.096"
      ]
     },
     "execution_count": 62,
     "metadata": {},
     "output_type": "execute_result"
    }
   ],
   "source": [
    "#Цена  DDP  поставка в Китай в  ретроспективе в разрезе дат без учета дисконта\n",
    "\n",
    "dbc_svod['DDP']=PRICE_DDP=DDP_CN(dbc_svod['FCA'],CN_LOGISTIC_COST_USD,dbc_svod['curs USD'])\n",
    "dbc_svod.head()"
   ]
  },
  {
   "cell_type": "code",
   "execution_count": null,
   "metadata": {},
   "outputs": [],
   "source": []
  },
  {
   "cell_type": "code",
   "execution_count": null,
   "metadata": {},
   "outputs": [],
   "source": []
  },
  {
   "cell_type": "code",
   "execution_count": 63,
   "metadata": {},
   "outputs": [
    {
     "data": {
      "text/plain": [
       "{'Monty': {'location': 'EU', 'volumes': 200, 'comment': 'moving_average'},\n",
       " 'Triangle': {'location': 'CN', 'volumes': 30, 'comment': 'monthly'},\n",
       " 'Stone': {'location': 'EU', 'volumes': 150, 'comment': 'moving_average'},\n",
       " 'Poly': {'location': 'EU', 'volumes': 70, 'comment': 'monthly'},\n",
       " 'Russian': {'location': 'RU', 'volumes': 10, 'comment': 'monthly'}}"
      ]
     },
     "execution_count": 63,
     "metadata": {},
     "output_type": "execute_result"
    }
   ],
   "source": [
    "#БЛОК РАБОТЫ С ИНФОРМАЦИЕЙ ПО КЛИЕНТАМ В ВИДЕ СЛОВАРЯ ДЛЯ ИСПОЛЬЗОВАНИЯ В ЦИКЛЕ\n",
    "customers\n"
   ]
  },
  {
   "cell_type": "code",
   "execution_count": 64,
   "metadata": {},
   "outputs": [
    {
     "data": {
      "text/plain": [
       "dict_keys(['Monty', 'Triangle', 'Stone', 'Poly', 'Russian'])"
      ]
     },
     "execution_count": 64,
     "metadata": {},
     "output_type": "execute_result"
    }
   ],
   "source": [
    "customers.keys()"
   ]
  },
  {
   "cell_type": "code",
   "execution_count": 65,
   "metadata": {},
   "outputs": [
    {
     "name": "stdout",
     "output_type": "stream",
     "text": [
      "Russian\n",
      "{'location': 'RU', 'volumes': 10, 'comment': 'monthly'}\n",
      "RU\n",
      "10\n",
      "monthly\n"
     ]
    }
   ],
   "source": [
    "#Для выбора требуемых параметров по клиенту по ключу для использования в цикле\n",
    "c_name=list(customers.keys())[4]\n",
    "print(c_name)\n",
    "c_data=customers[c_name]\n",
    "print(c_data)\n",
    "print(c_data['location'])\n",
    "print(c_data ['volumes'] )\n",
    "print(c_data ['comment'])"
   ]
  },
  {
   "cell_type": "code",
   "execution_count": 66,
   "metadata": {},
   "outputs": [
    {
     "name": "stdout",
     "output_type": "stream",
     "text": [
      "{100: 0.01, 300: 0.05, 301: 0.1}\n"
     ]
    }
   ],
   "source": [
    "print(discounts)"
   ]
  },
  {
   "cell_type": "code",
   "execution_count": 67,
   "metadata": {},
   "outputs": [
    {
     "data": {
      "text/plain": [
       "13     33030.07092\n",
       "29     32562.83052\n",
       "77     34236.15228\n",
       "109    34460.75556\n",
       "162    35073.31410\n",
       "          ...     \n",
       "196    36344.60874\n",
       "247    34402.55544\n",
       "213    35030.23326\n",
       "229    35014.43088\n",
       "248    34270.07958\n",
       "Name: FCA, Length: 257, dtype: float64"
      ]
     },
     "execution_count": 67,
     "metadata": {},
     "output_type": "execute_result"
    }
   ],
   "source": [
    "FCA_disc(dbc_svod['FCA'],discounts,c_data['volumes'])"
   ]
  },
  {
   "cell_type": "code",
   "execution_count": 68,
   "metadata": {},
   "outputs": [
    {
     "data": {
      "text/plain": [
       "13     40260.95172\n",
       "29     39818.19006\n",
       "77     42217.97184\n",
       "109    42485.16195\n",
       "162    43515.54504\n",
       "          ...     \n",
       "196    44949.55509\n",
       "247    42734.24595\n",
       "213    43479.60705\n",
       "229    43518.45069\n",
       "248    42558.24375\n",
       "Name: DDP, Length: 257, dtype: float64"
      ]
     },
     "execution_count": 68,
     "metadata": {},
     "output_type": "execute_result"
    }
   ],
   "source": [
    "DDP_disc(dbc_svod['DDP'],discounts,c_data['volumes'])"
   ]
  },
  {
   "cell_type": "code",
   "execution_count": 69,
   "metadata": {},
   "outputs": [
    {
     "data": {
      "text/html": [
       "<div>\n",
       "<style scoped>\n",
       "    .dataframe tbody tr th:only-of-type {\n",
       "        vertical-align: middle;\n",
       "    }\n",
       "\n",
       "    .dataframe tbody tr th {\n",
       "        vertical-align: top;\n",
       "    }\n",
       "\n",
       "    .dataframe thead th {\n",
       "        text-align: right;\n",
       "    }\n",
       "</style>\n",
       "<table border=\"1\" class=\"dataframe\">\n",
       "  <thead>\n",
       "    <tr style=\"text-align: right;\">\n",
       "      <th></th>\n",
       "      <th>Date</th>\n",
       "      <th>EURUSD=X</th>\n",
       "      <th>OIL</th>\n",
       "      <th>curs USD</th>\n",
       "      <th>curs EUR</th>\n",
       "      <th>FCA</th>\n",
       "      <th>DDP</th>\n",
       "      <th>PRICE_discont</th>\n",
       "    </tr>\n",
       "  </thead>\n",
       "  <tbody>\n",
       "    <tr>\n",
       "      <td>13</td>\n",
       "      <td>2018-01-02</td>\n",
       "      <td>1.2419</td>\n",
       "      <td>63.77</td>\n",
       "      <td>56.1840</td>\n",
       "      <td>69.9322</td>\n",
       "      <td>33363.708</td>\n",
       "      <td>40667.628</td>\n",
       "      <td>33030.07092</td>\n",
       "    </tr>\n",
       "    <tr>\n",
       "      <td>29</td>\n",
       "      <td>2018-01-03</td>\n",
       "      <td>1.2191</td>\n",
       "      <td>60.00</td>\n",
       "      <td>56.3742</td>\n",
       "      <td>68.9062</td>\n",
       "      <td>32891.748</td>\n",
       "      <td>40220.394</td>\n",
       "      <td>32562.83052</td>\n",
       "    </tr>\n",
       "    <tr>\n",
       "      <td>77</td>\n",
       "      <td>2018-01-06</td>\n",
       "      <td>1.1693</td>\n",
       "      <td>65.50</td>\n",
       "      <td>62.0188</td>\n",
       "      <td>72.5806</td>\n",
       "      <td>34581.972</td>\n",
       "      <td>42644.416</td>\n",
       "      <td>34236.15228</td>\n",
       "    </tr>\n",
       "    <tr>\n",
       "      <td>109</td>\n",
       "      <td>2018-01-08</td>\n",
       "      <td>1.1690</td>\n",
       "      <td>68.70</td>\n",
       "      <td>62.3497</td>\n",
       "      <td>73.0738</td>\n",
       "      <td>34808.844</td>\n",
       "      <td>42914.305</td>\n",
       "      <td>34460.75556</td>\n",
       "    </tr>\n",
       "    <tr>\n",
       "      <td>162</td>\n",
       "      <td>2018-01-11</td>\n",
       "      <td>1.1317</td>\n",
       "      <td>65.93</td>\n",
       "      <td>65.5962</td>\n",
       "      <td>74.4189</td>\n",
       "      <td>35427.590</td>\n",
       "      <td>43955.096</td>\n",
       "      <td>35073.31410</td>\n",
       "    </tr>\n",
       "  </tbody>\n",
       "</table>\n",
       "</div>"
      ],
      "text/plain": [
       "          Date  EURUSD=X    OIL  curs USD  curs EUR        FCA        DDP  \\\n",
       "13  2018-01-02    1.2419  63.77   56.1840   69.9322  33363.708  40667.628   \n",
       "29  2018-01-03    1.2191  60.00   56.3742   68.9062  32891.748  40220.394   \n",
       "77  2018-01-06    1.1693  65.50   62.0188   72.5806  34581.972  42644.416   \n",
       "109 2018-01-08    1.1690  68.70   62.3497   73.0738  34808.844  42914.305   \n",
       "162 2018-01-11    1.1317  65.93   65.5962   74.4189  35427.590  43955.096   \n",
       "\n",
       "     PRICE_discont  \n",
       "13     33030.07092  \n",
       "29     32562.83052  \n",
       "77     34236.15228  \n",
       "109    34460.75556  \n",
       "162    35073.31410  "
      ]
     },
     "execution_count": 69,
     "metadata": {},
     "output_type": "execute_result"
    }
   ],
   "source": [
    "FCA_discont=FCA_disc(dbc_svod['FCA'],discounts,c_data['volumes'])\n",
    "dbc_svod['PRICE_discont']=FCA_discont\n",
    "dbc_svod.head()"
   ]
  },
  {
   "cell_type": "code",
   "execution_count": null,
   "metadata": {},
   "outputs": [],
   "source": []
  },
  {
   "cell_type": "code",
   "execution_count": null,
   "metadata": {},
   "outputs": [],
   "source": []
  },
  {
   "cell_type": "code",
   "execution_count": null,
   "metadata": {},
   "outputs": [],
   "source": []
  },
  {
   "cell_type": "code",
   "execution_count": 70,
   "metadata": {},
   "outputs": [],
   "source": [
    "#Цикл. В разрезе каждого клиента из словаря по ключу customers.keys формируется таблица  dbc_svod:\n",
    "#-формирует цену DDP в зависимости от вводных по клиенту-добавляет колонку 'DDP' в  таблицу dbc_svod по клиенту;\n",
    "#-формирует дисконт по клиенту в зависимости от водных-добавляет колонку 'PRICE_discont'в  таблицу dbc_svod по клиенту; \n",
    "#-осуществляет экспорт в Excel  в отдельный файл по каждому клиенту\n",
    "\n",
    "for c_name in customers.keys():\n",
    "    c_data=customers[c_name]\n",
    "    if c_data['location']=='EU':\n",
    "        dbc_svod['DDP']=DDP_E(dbc_svod['FCA'],EU_LOGISTIC_COST_EUR,dbc_svod['curs EUR'])\n",
    "    elif c_data['location']=='CN':\n",
    "               \n",
    "        dbc_svod['DDP']=DDP_CN(dbc_svod['FCA'],CN_LOGISTIC_COST_USD,dbc_svod['curs USD'])\n",
    "    elif c_data['location']=='RU':\n",
    "        dbc_svod['DDP']=dbc_svod['FCA'] #*\n",
    "    \n",
    "#     if c_data['location']=='EU' or c_data['location']=='CN':\n",
    "#         dbc_svod['PRICE_discont']=DDP_disc(dbc_svod['DDP'],discounts,c_data['volumes'])\n",
    "#     elif c_data['location']=='RU':\n",
    "#         dbc_svod['PRICE_discont']=FCA_disc(dbc_svod['FCA'],discounts,c_data['volumes'])\n",
    "    dbc_svod['PRICE_discont']=DDP_disc(dbc_svod['DDP'],discounts,c_data['volumes'])\n",
    "    dbc_svod.to_excel(c_name+\".xlsx\", sheet_name=c_name)      "
   ]
  },
  {
   "cell_type": "code",
   "execution_count": null,
   "metadata": {},
   "outputs": [],
   "source": [
    "#*  по клиенту RU цена  DDP==FCA  так, как у клиента  RU отсутствуют расходы по логистике."
   ]
  },
  {
   "cell_type": "code",
   "execution_count": null,
   "metadata": {},
   "outputs": [],
   "source": [
    "#БЛОК ПРОВЕРОК"
   ]
  },
  {
   "cell_type": "code",
   "execution_count": 71,
   "metadata": {},
   "outputs": [
    {
     "name": "stdout",
     "output_type": "stream",
     "text": [
      "34355.5\n"
     ]
    }
   ],
   "source": [
    "RAW_MAT\n",
    "dbc\n",
    "PRODUCTION_COST\n",
    "K_EUR\n",
    "NP\n",
    " \n",
    "FCA(RAW_MAT,dbc,PRODUCTION_COST,K_EUR,NP)\n",
    "res1=FCA(RAW_MAT,dbc,PRODUCTION_COST,K_EUR,NP)\n",
    "print(round(res1,1))\n",
    "\n",
    "assert round(res1,1)==34355.5, 'Error calculation FCA'"
   ]
  },
  {
   "cell_type": "code",
   "execution_count": 72,
   "metadata": {},
   "outputs": [],
   "source": [
    "dbc_df.shape\n",
    "assert dbc_df.shape==(346, 3), 'Error shape tab dbc_df'"
   ]
  },
  {
   "cell_type": "code",
   "execution_count": null,
   "metadata": {},
   "outputs": [],
   "source": []
  },
  {
   "cell_type": "code",
   "execution_count": null,
   "metadata": {},
   "outputs": [],
   "source": []
  },
  {
   "cell_type": "code",
   "execution_count": null,
   "metadata": {},
   "outputs": [],
   "source": [
    "#БЛОК ЭКСПОРТА ДАННЫХ ПОЙДЕТ В ЦИКЛ\n",
    "#ЭКСПОРТ В EXCEL"
   ]
  },
  {
   "cell_type": "code",
   "execution_count": 55,
   "metadata": {},
   "outputs": [],
   "source": [
    "dbc_svod.to_excel(c_name+\".xlsx\", sheet_name=c_name)  "
   ]
  },
  {
   "cell_type": "code",
   "execution_count": null,
   "metadata": {},
   "outputs": [],
   "source": []
  },
  {
   "cell_type": "code",
   "execution_count": null,
   "metadata": {},
   "outputs": [],
   "source": []
  },
  {
   "cell_type": "code",
   "execution_count": null,
   "metadata": {},
   "outputs": [],
   "source": []
  },
  {
   "cell_type": "code",
   "execution_count": null,
   "metadata": {},
   "outputs": [],
   "source": []
  },
  {
   "cell_type": "code",
   "execution_count": null,
   "metadata": {},
   "outputs": [],
   "source": []
  },
  {
   "cell_type": "code",
   "execution_count": null,
   "metadata": {},
   "outputs": [],
   "source": []
  },
  {
   "cell_type": "code",
   "execution_count": null,
   "metadata": {},
   "outputs": [],
   "source": []
  },
  {
   "cell_type": "code",
   "execution_count": null,
   "metadata": {},
   "outputs": [],
   "source": []
  },
  {
   "cell_type": "code",
   "execution_count": null,
   "metadata": {},
   "outputs": [],
   "source": []
  },
  {
   "cell_type": "code",
   "execution_count": null,
   "metadata": {},
   "outputs": [],
   "source": []
  },
  {
   "cell_type": "code",
   "execution_count": null,
   "metadata": {},
   "outputs": [],
   "source": []
  },
  {
   "cell_type": "code",
   "execution_count": null,
   "metadata": {},
   "outputs": [],
   "source": []
  },
  {
   "cell_type": "code",
   "execution_count": null,
   "metadata": {},
   "outputs": [],
   "source": []
  },
  {
   "cell_type": "code",
   "execution_count": null,
   "metadata": {},
   "outputs": [],
   "source": []
  },
  {
   "cell_type": "code",
   "execution_count": null,
   "metadata": {},
   "outputs": [],
   "source": []
  },
  {
   "cell_type": "code",
   "execution_count": null,
   "metadata": {},
   "outputs": [],
   "source": []
  },
  {
   "cell_type": "code",
   "execution_count": null,
   "metadata": {},
   "outputs": [],
   "source": []
  },
  {
   "cell_type": "code",
   "execution_count": null,
   "metadata": {},
   "outputs": [],
   "source": []
  },
  {
   "cell_type": "code",
   "execution_count": null,
   "metadata": {},
   "outputs": [],
   "source": []
  },
  {
   "cell_type": "code",
   "execution_count": null,
   "metadata": {},
   "outputs": [],
   "source": []
  },
  {
   "cell_type": "code",
   "execution_count": null,
   "metadata": {},
   "outputs": [],
   "source": []
  },
  {
   "cell_type": "code",
   "execution_count": null,
   "metadata": {},
   "outputs": [],
   "source": []
  },
  {
   "cell_type": "code",
   "execution_count": null,
   "metadata": {},
   "outputs": [],
   "source": []
  },
  {
   "cell_type": "code",
   "execution_count": null,
   "metadata": {},
   "outputs": [],
   "source": []
  },
  {
   "cell_type": "code",
   "execution_count": null,
   "metadata": {},
   "outputs": [],
   "source": []
  },
  {
   "cell_type": "code",
   "execution_count": null,
   "metadata": {},
   "outputs": [],
   "source": [
    "import matplotlib.pyplot as plt"
   ]
  },
  {
   "cell_type": "code",
   "execution_count": null,
   "metadata": {},
   "outputs": [],
   "source": [
    "import matplotlib.pyplot as plt\n",
    "plt.figure(figsize=(w, h))"
   ]
  },
  {
   "cell_type": "code",
   "execution_count": null,
   "metadata": {},
   "outputs": [],
   "source": []
  },
  {
   "cell_type": "code",
   "execution_count": null,
   "metadata": {},
   "outputs": [],
   "source": []
  },
  {
   "cell_type": "code",
   "execution_count": null,
   "metadata": {},
   "outputs": [],
   "source": []
  },
  {
   "cell_type": "code",
   "execution_count": null,
   "metadata": {},
   "outputs": [],
   "source": []
  },
  {
   "cell_type": "code",
   "execution_count": 68,
   "metadata": {},
   "outputs": [
    {
     "data": {
      "text/plain": [
       "{'Monty': {'location': 'EU', 'volumes': 200, 'comment': 'moving_average'},\n",
       " 'Triangle': {'location': 'CN', 'volumes': 30, 'comment': 'monthly'},\n",
       " 'Stone': {'location': 'EU', 'volumes': 150, 'comment': 'moving_average'},\n",
       " 'Poly': {'location': 'EU', 'volumes': 70, 'comment': 'monthly'},\n",
       " 'Russian': {'location': 'RU', 'volumes': 10, 'comment': 'monthly'}}"
      ]
     },
     "execution_count": 68,
     "metadata": {},
     "output_type": "execute_result"
    }
   ],
   "source": [
    "customers"
   ]
  },
  {
   "cell_type": "code",
   "execution_count": 69,
   "metadata": {},
   "outputs": [
    {
     "data": {
      "text/plain": [
       "dict_keys(['Monty', 'Triangle', 'Stone', 'Poly', 'Russian'])"
      ]
     },
     "execution_count": 69,
     "metadata": {},
     "output_type": "execute_result"
    }
   ],
   "source": [
    "customers.keys()"
   ]
  },
  {
   "cell_type": "code",
   "execution_count": 70,
   "metadata": {},
   "outputs": [
    {
     "data": {
      "text/plain": [
       "'Triangle'"
      ]
     },
     "execution_count": 70,
     "metadata": {},
     "output_type": "execute_result"
    }
   ],
   "source": [
    "c_name=list(customers.keys())[1]\n",
    "c_name"
   ]
  },
  {
   "cell_type": "code",
   "execution_count": 71,
   "metadata": {},
   "outputs": [
    {
     "data": {
      "text/plain": [
       "{'location': 'CN', 'volumes': 30, 'comment': 'monthly'}"
      ]
     },
     "execution_count": 71,
     "metadata": {},
     "output_type": "execute_result"
    }
   ],
   "source": [
    "c_data=customers[c_name]\n",
    "c_data"
   ]
  },
  {
   "cell_type": "code",
   "execution_count": 72,
   "metadata": {},
   "outputs": [
    {
     "data": {
      "text/plain": [
       "'CN'"
      ]
     },
     "execution_count": 72,
     "metadata": {},
     "output_type": "execute_result"
    }
   ],
   "source": [
    "c_data['location']"
   ]
  },
  {
   "cell_type": "code",
   "execution_count": 72,
   "metadata": {},
   "outputs": [
    {
     "data": {
      "text/plain": [
       "30"
      ]
     },
     "execution_count": 72,
     "metadata": {},
     "output_type": "execute_result"
    }
   ],
   "source": [
    "c_data['volumes']"
   ]
  },
  {
   "cell_type": "code",
   "execution_count": 75,
   "metadata": {},
   "outputs": [
    {
     "data": {
      "text/plain": [
       "'monthly'"
      ]
     },
     "execution_count": 75,
     "metadata": {},
     "output_type": "execute_result"
    }
   ],
   "source": [
    "c_data['comment']"
   ]
  },
  {
   "cell_type": "code",
   "execution_count": 76,
   "metadata": {},
   "outputs": [
    {
     "name": "stdout",
     "output_type": "stream",
     "text": [
      "Monty EU\n",
      "Triangle CN\n",
      "Stone EU\n",
      "Poly EU\n",
      "Russian RU\n"
     ]
    }
   ],
   "source": [
    "for c_name in customers.keys():\n",
    "   # print(c_name)\n",
    "    c_data=customers[c_name]\n",
    "    print(c_name,c_data['location'])"
   ]
  },
  {
   "cell_type": "code",
   "execution_count": 77,
   "metadata": {},
   "outputs": [
    {
     "ename": "NameError",
     "evalue": "name 'EU' is not defined",
     "output_type": "error",
     "traceback": [
      "\u001b[1;31m---------------------------------------------------------------------------\u001b[0m",
      "\u001b[1;31mNameError\u001b[0m                                 Traceback (most recent call last)",
      "\u001b[1;32m<ipython-input-77-3068d35cb53f>\u001b[0m in \u001b[0;36m<module>\u001b[1;34m\u001b[0m\n\u001b[0;32m      6\u001b[0m    \u001b[1;31m# print(c_name)\u001b[0m\u001b[1;33m\u001b[0m\u001b[1;33m\u001b[0m\u001b[1;33m\u001b[0m\u001b[0m\n\u001b[0;32m      7\u001b[0m     \u001b[0mc_data\u001b[0m\u001b[1;33m=\u001b[0m\u001b[0mcustomers\u001b[0m\u001b[1;33m[\u001b[0m\u001b[0mc_name\u001b[0m\u001b[1;33m]\u001b[0m\u001b[1;33m\u001b[0m\u001b[1;33m\u001b[0m\u001b[0m\n\u001b[1;32m----> 8\u001b[1;33m     \u001b[1;32mif\u001b[0m\u001b[1;33m(\u001b[0m\u001b[0mc_data\u001b[0m\u001b[1;33m[\u001b[0m\u001b[1;34m'location'\u001b[0m\u001b[1;33m]\u001b[0m\u001b[1;33m)\u001b[0m\u001b[1;33m==\u001b[0m\u001b[0mEU\u001b[0m\u001b[1;33m:\u001b[0m\u001b[1;33m\u001b[0m\u001b[1;33m\u001b[0m\u001b[0m\n\u001b[0m\u001b[0;32m      9\u001b[0m         \u001b[0mPRICE\u001b[0m\u001b[1;33m=\u001b[0m\u001b[0mPRICE_DDP_E\u001b[0m\u001b[1;33m\u001b[0m\u001b[1;33m\u001b[0m\u001b[0m\n\u001b[0;32m     10\u001b[0m     \u001b[1;32mif\u001b[0m\u001b[1;33m(\u001b[0m\u001b[0mc_data\u001b[0m\u001b[1;33m[\u001b[0m\u001b[1;34m'location'\u001b[0m\u001b[1;33m]\u001b[0m\u001b[1;33m)\u001b[0m\u001b[1;33m==\u001b[0m\u001b[0mCN\u001b[0m\u001b[1;33m:\u001b[0m\u001b[1;33m\u001b[0m\u001b[1;33m\u001b[0m\u001b[0m\n",
      "\u001b[1;31mNameError\u001b[0m: name 'EU' is not defined"
     ]
    }
   ],
   "source": [
    "PRICE=PRICE_FCA\n",
    "PRICE=PRICE_DDP_CN\n",
    "PRICE_DDP_E\n",
    "PRICE=[]\n",
    "for c_name in customers.keys():\n",
    "   # print(c_name)\n",
    "    c_data=customers[c_name]\n",
    "    if(c_data['location'])==EU:\n",
    "        PRICE=PRICE_DDP_E\n",
    "    if(c_data['location'])==CN:\n",
    "        PRICE=PRICE_DDP_CN\n",
    "    if(c_data['location'])==RU: \n",
    "        PRICE=PRICE_FCA\n",
    "        \n",
    "print(PRICE)       "
   ]
  },
  {
   "cell_type": "code",
   "execution_count": 78,
   "metadata": {},
   "outputs": [
    {
     "ename": "TypeError",
     "evalue": "'dict_keys' object is not subscriptable",
     "output_type": "error",
     "traceback": [
      "\u001b[1;31m---------------------------------------------------------------------------\u001b[0m",
      "\u001b[1;31mTypeError\u001b[0m                                 Traceback (most recent call last)",
      "\u001b[1;32m<ipython-input-78-1bfd843f6f04>\u001b[0m in \u001b[0;36m<module>\u001b[1;34m\u001b[0m\n\u001b[0;32m      3\u001b[0m    \u001b[1;31m# print(c_name)\u001b[0m\u001b[1;33m\u001b[0m\u001b[1;33m\u001b[0m\u001b[1;33m\u001b[0m\u001b[0m\n\u001b[0;32m      4\u001b[0m     \u001b[0mc_data\u001b[0m\u001b[1;33m=\u001b[0m\u001b[0mcustomers\u001b[0m\u001b[1;33m[\u001b[0m\u001b[0mc_name\u001b[0m\u001b[1;33m]\u001b[0m\u001b[1;33m\u001b[0m\u001b[1;33m\u001b[0m\u001b[0m\n\u001b[1;32m----> 5\u001b[1;33m     \u001b[1;32mif\u001b[0m\u001b[1;33m(\u001b[0m\u001b[0mc_data\u001b[0m\u001b[1;33m[\u001b[0m\u001b[1;34m'volumes'\u001b[0m\u001b[1;33m]\u001b[0m\u001b[1;33m)\u001b[0m\u001b[1;33m<=\u001b[0m\u001b[0mdiscounts\u001b[0m\u001b[1;33m.\u001b[0m\u001b[0mkeys\u001b[0m\u001b[1;33m(\u001b[0m\u001b[1;33m)\u001b[0m\u001b[1;33m[\u001b[0m\u001b[1;36m0\u001b[0m\u001b[1;33m]\u001b[0m \u001b[1;33m:\u001b[0m\u001b[1;33m\u001b[0m\u001b[1;33m\u001b[0m\u001b[0m\n\u001b[0m\u001b[0;32m      6\u001b[0m         \u001b[0mPRICE\u001b[0m\u001b[1;33m=\u001b[0m\u001b[0mPRICE\u001b[0m\u001b[1;33m*\u001b[0m\u001b[0mdiscounts\u001b[0m\u001b[1;33m.\u001b[0m\u001b[0mvalues\u001b[0m\u001b[1;33m(\u001b[0m\u001b[1;33m)\u001b[0m\u001b[1;33m[\u001b[0m\u001b[1;36m0\u001b[0m\u001b[1;33m]\u001b[0m\u001b[1;33m\u001b[0m\u001b[1;33m\u001b[0m\u001b[0m\n\u001b[0;32m      7\u001b[0m     \u001b[1;32mif\u001b[0m\u001b[1;33m(\u001b[0m\u001b[0mc_data\u001b[0m\u001b[1;33m[\u001b[0m\u001b[1;34m'volumes'\u001b[0m\u001b[1;33m]\u001b[0m\u001b[1;33m)\u001b[0m\u001b[1;33m>\u001b[0m\u001b[0mdiscounts\u001b[0m\u001b[1;33m.\u001b[0m\u001b[0mkeys\u001b[0m\u001b[1;33m(\u001b[0m\u001b[1;33m)\u001b[0m\u001b[1;33m[\u001b[0m\u001b[1;36m0\u001b[0m\u001b[1;33m]\u001b[0m \u001b[1;32mand\u001b[0m \u001b[1;33m(\u001b[0m\u001b[0mc_name\u001b[0m\u001b[1;33m,\u001b[0m\u001b[0mc_data\u001b[0m\u001b[1;33m[\u001b[0m\u001b[1;34m'volumes'\u001b[0m\u001b[1;33m]\u001b[0m\u001b[1;33m)\u001b[0m\u001b[1;33m<=\u001b[0m\u001b[0mdiscounts\u001b[0m\u001b[1;33m.\u001b[0m\u001b[0mkeys\u001b[0m\u001b[1;33m(\u001b[0m\u001b[1;33m)\u001b[0m\u001b[1;33m[\u001b[0m\u001b[1;36m1\u001b[0m\u001b[1;33m]\u001b[0m\u001b[1;33m:\u001b[0m\u001b[1;33m\u001b[0m\u001b[1;33m\u001b[0m\u001b[0m\n",
      "\u001b[1;31mTypeError\u001b[0m: 'dict_keys' object is not subscriptable"
     ]
    }
   ],
   "source": [
    "PRICE=[]\n",
    "for c_name in customers.keys():\n",
    "   # print(c_name)\n",
    "    c_data=customers[c_name]\n",
    "    if(c_data['volumes'])<=discounts.keys()[0] :\n",
    "        PRICE=PRICE*discounts.values()[0]\n",
    "    if(c_data['volumes'])>discounts.keys()[0] and (c_name,c_data['volumes'])<=discounts.keys()[1]:\n",
    "        PRICE=PRICE*discounts.values()[1]\n",
    "\n",
    "    if(c_data['volumes'])>discounts.keys()[2]: \n",
    "        PRICE=PRICE*discounts.values()[2]"
   ]
  },
  {
   "cell_type": "code",
   "execution_count": null,
   "metadata": {},
   "outputs": [],
   "source": []
  },
  {
   "cell_type": "code",
   "execution_count": null,
   "metadata": {},
   "outputs": [],
   "source": []
  },
  {
   "cell_type": "code",
   "execution_count": null,
   "metadata": {},
   "outputs": [],
   "source": []
  },
  {
   "cell_type": "code",
   "execution_count": null,
   "metadata": {},
   "outputs": [],
   "source": []
  },
  {
   "cell_type": "code",
   "execution_count": null,
   "metadata": {},
   "outputs": [],
   "source": []
  },
  {
   "cell_type": "markdown",
   "metadata": {},
   "source": [
    "### Что нужно сделать?\n",
    "\n",
    "1. Проанализировать имеющиеся данные.\n",
    "2. Определить базовую формулу цены на условиях FCA (цена на заводе). То есть как бы выглядела цена на исторических данных.\n",
    "3. Отобразить на графике.\n",
    "4. Сделать расчет возможной цены по формуле для каждого из клиентов на условиях DDP (цена с доставкой). Записать все в один эксель файл, на разных листах. Каждый лист - название клиента.\n",
    "5. Предложить формулу цены каждому из клиентов на условиях DDP (цена с доставкой).\n",
    "- Создать директорию «для клиентов» и в ней сложить  файлы с расчетами.\n",
    "- Каждый клиент - отдельный файл (любой из docx, xlsx, pptx, pdf)  с именем клиента… \n",
    "\n",
    "### В результате должно быть 3 файла:\n",
    "1. Ноутбук с расчетами и графиками. \n",
    "2. Скрипт, который делает расчет цены для каждого клиента в одном файле\n",
    "2. Скрипт, который делает расчет цены для каждого клиента в отельном файле"
   ]
  },
  {
   "cell_type": "code",
   "execution_count": null,
   "metadata": {},
   "outputs": [],
   "source": [
    "# "
   ]
  },
  {
   "cell_type": "markdown",
   "metadata": {},
   "source": [
    "# Задание 2. Продолжение"
   ]
  },
  {
   "cell_type": "markdown",
   "metadata": {},
   "source": [
    "Клиенты согласились на ваше предложение. \n",
    "Вам нужно сделать написать скрипт, с помощью которого можно автоматом рассчитывать цены для всех клиентов одновременно. \n",
    "Важный момент: данные для расчета скрипт должен подтягивать сам.\n",
    "\n",
    "В результате должно быть 3 файла\n",
    "1. Ноутбук с расчетами и графиками (чтобы данные подтягивались туда)\n",
    "2. Скрипт, который делает расчет цены для клиента (чтобы данные подтягивались туда сами)"
   ]
  },
  {
   "cell_type": "code",
   "execution_count": null,
   "metadata": {},
   "outputs": [],
   "source": [
    "# "
   ]
  },
  {
   "cell_type": "markdown",
   "metadata": {},
   "source": [
    "# Задание 3. Back to Russia\n",
    "\n",
    "К вам пришел новый клиент из России. Который использует продукт А и готов регулярно закупать ВБП для того, чтобы не быть привязанным к одному поставщику. Клиент готов забирать ВБП с завода самостоятельно.\n",
    "1. На основе тех данных, которые уже есть предложите цену новому клиенту. \n",
    "2. Подготовьте скрипт, который будет использовать курс публикуемый на <a href='http://www.cbr.ru/currency_base/dynamics/'> сайте ЦБ РФ</a>.\n"
   ]
  },
  {
   "cell_type": "code",
   "execution_count": null,
   "metadata": {},
   "outputs": [],
   "source": [
    "# "
   ]
  },
  {
   "cell_type": "markdown",
   "metadata": {},
   "source": [
    "# Задание 4. Check it"
   ]
  },
  {
   "cell_type": "markdown",
   "metadata": {},
   "source": [
    "* Подумайте, как можно проверить корректность работы алгоритма? \n",
    "* Какие возможны ошибки?\n",
    "* Придумайте тесты для проверки возможных ошибок алгоритма\n",
    "* Интергрируйте их в свои скрипты в виде исключений\n"
   ]
  },
  {
   "cell_type": "code",
   "execution_count": null,
   "metadata": {},
   "outputs": [],
   "source": [
    "# "
   ]
  },
  {
   "cell_type": "markdown",
   "metadata": {},
   "source": [
    "# Задание 5. Поделись с ближним"
   ]
  },
  {
   "cell_type": "markdown",
   "metadata": {},
   "source": [
    "Вы решили пойти в отпуск на время вашего отсутствия вас будет заменять коллега. Он будет заниматься рассчетом цен для клиентов. Чтобы ему было проще вам нужно завернуть ваши скрипты в модуль, который будет запускать у себя коллега."
   ]
  },
  {
   "cell_type": "markdown",
   "metadata": {},
   "source": [
    "* Создайте модуль, который можно запускать в ноутбуке подкладывая в ту же директорию\n",
    "* Хорошенько задокументируйте ВСЁ, но помните о PEP8"
   ]
  },
  {
   "cell_type": "code",
   "execution_count": null,
   "metadata": {},
   "outputs": [],
   "source": [
    "# import yourpackage"
   ]
  },
  {
   "cell_type": "markdown",
   "metadata": {},
   "source": [
    "# Задание 6. Поделись пакетом"
   ]
  },
  {
   "cell_type": "markdown",
   "metadata": {},
   "source": [
    "Ваши коллеги узнали, что вы быстро рассчитываете цены для формульных контрактов, и решили использовать такую же практику для своих продуктов и клиентов. Вам нужно создать пакет, чтобы его было проще устанавливать и использовать."
   ]
  },
  {
   "cell_type": "markdown",
   "metadata": {},
   "source": [
    "* Создайте отдельный пакет, который можно устанавливать с помощью pip \n",
    "* В пакете должны быть реализованы функции для рассчета цен по формульным контрактам\n",
    "* Выложите пакет в репозиторий"
   ]
  },
  {
   "cell_type": "code",
   "execution_count": 80,
   "metadata": {},
   "outputs": [
    {
     "name": "stdout",
     "output_type": "stream",
     "text": [
      "Collecting yourpackage\n"
     ]
    },
    {
     "name": "stderr",
     "output_type": "stream",
     "text": [
      "  ERROR: Could not find a version that satisfies the requirement yourpackage (from versions: none)\n",
      "ERROR: No matching distribution found for yourpackage\n"
     ]
    },
    {
     "ename": "ModuleNotFoundError",
     "evalue": "No module named 'yourpackage'",
     "output_type": "error",
     "traceback": [
      "\u001b[1;31m---------------------------------------------------------------------------\u001b[0m",
      "\u001b[1;31mModuleNotFoundError\u001b[0m                       Traceback (most recent call last)",
      "\u001b[1;32m<ipython-input-80-c8926789e2ca>\u001b[0m in \u001b[0;36m<module>\u001b[1;34m\u001b[0m\n\u001b[0;32m      1\u001b[0m \u001b[0mget_ipython\u001b[0m\u001b[1;33m(\u001b[0m\u001b[1;33m)\u001b[0m\u001b[1;33m.\u001b[0m\u001b[0msystem\u001b[0m\u001b[1;33m(\u001b[0m\u001b[1;34m'pip install yourpackage'\u001b[0m\u001b[1;33m)\u001b[0m\u001b[1;33m\u001b[0m\u001b[1;33m\u001b[0m\u001b[0m\n\u001b[1;32m----> 2\u001b[1;33m \u001b[1;32mimport\u001b[0m \u001b[0myourpackage\u001b[0m\u001b[1;33m\u001b[0m\u001b[1;33m\u001b[0m\u001b[0m\n\u001b[0m",
      "\u001b[1;31mModuleNotFoundError\u001b[0m: No module named 'yourpackage'"
     ]
    }
   ],
   "source": [
    "!pip install yourpackage\n",
    "import yourpackage"
   ]
  },
  {
   "cell_type": "code",
   "execution_count": null,
   "metadata": {},
   "outputs": [],
   "source": []
  }
 ],
 "metadata": {
  "kernelspec": {
   "display_name": "Python 3",
   "language": "python",
   "name": "python3"
  },
  "language_info": {
   "codemirror_mode": {
    "name": "ipython",
    "version": 3
   },
   "file_extension": ".py",
   "mimetype": "text/x-python",
   "name": "python",
   "nbconvert_exporter": "python",
   "pygments_lexer": "ipython3",
   "version": "3.7.4"
  }
 },
 "nbformat": 4,
 "nbformat_minor": 2
}
